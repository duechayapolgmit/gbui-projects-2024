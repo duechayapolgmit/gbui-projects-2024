{
  "nbformat": 4,
  "nbformat_minor": 0,
  "metadata": {
    "colab": {
      "provenance": []
    },
    "kernelspec": {
      "name": "python3",
      "display_name": "Python 3"
    },
    "language_info": {
      "name": "python"
    }
  },
  "cells": [
    {
      "cell_type": "markdown",
      "source": [
        "# Assignment 2\n",
        "\n",
        "**Unless specified, most of the code is taken from the lab notes, implemented in the scenario given.**"
      ],
      "metadata": {
        "id": "txkf5affpxWt"
      }
    },
    {
      "cell_type": "code",
      "execution_count": null,
      "metadata": {
        "id": "yas9ZY6bpbdY"
      },
      "outputs": [],
      "source": [
        "# All libraries required\n",
        "import tensorflow as tf\n",
        "import numpy as np\n",
        "import matplotlib.pyplot as plt"
      ]
    },
    {
      "cell_type": "code",
      "source": [
        "# Splitting data\n",
        "(train_images, train_labels), (test_images, test_labels) = \"\""
      ],
      "metadata": {
        "id": "QGrlsR3EqeLj"
      },
      "execution_count": null,
      "outputs": []
    }
  ]
}