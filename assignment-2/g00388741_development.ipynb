{
  "cells": [
    {
      "cell_type": "markdown",
      "metadata": {
        "id": "txkf5affpxWt"
      },
      "source": [
        "# Assignment 2\n",
        "\n",
        "**Unless specified, most of the code is taken from the lab notes, implemented in the scenario given.**"
      ]
    },
    {
      "cell_type": "code",
      "execution_count": 1,
      "metadata": {
        "id": "yas9ZY6bpbdY"
      },
      "outputs": [],
      "source": [
        "# All libraries required\n",
        "import tensorflow as tf\n",
        "import numpy as np\n",
        "import matplotlib.pyplot as plt"
      ]
    },
    {
      "cell_type": "code",
      "execution_count": 2,
      "metadata": {},
      "outputs": [
        {
          "name": "stdout",
          "output_type": "stream",
          "text": [
            "Found 125912 files belonging to 18 classes.\n",
            "Using 100730 files for training.\n"
          ]
        }
      ],
      "source": [
        "# Get data - https://www.tensorflow.org/tutorials/load_data/images#load_data_using_a_keras_utility\n",
        "\n",
        "# Parameters\n",
        "batch_size = 125912\n",
        "img_height = 512\n",
        "img_width = 512\n",
        "data_dir = './hagridset'\n",
        "seed_no = 388741\n",
        "\n",
        "# Dataset\n",
        "\n",
        "# Auto split to training set (0.8 - further broken down later) and test set (0.1)\n",
        "data_set = tf.keras.utils.image_dataset_from_directory(data_dir,\n",
        "                                                       image_size = (img_width, img_height),\n",
        "                                                       validation_split = 0.2,\n",
        "                                                       subset = 'training',\n",
        "                                                       seed = seed_no,\n",
        "                                                       color_mode = 'grayscale',\n",
        "                                                       shuffle = True)"
      ]
    },
    {
      "cell_type": "code",
      "execution_count": 4,
      "metadata": {
        "id": "QGrlsR3EqeLj"
      },
      "outputs": [
        {
          "data": {
            "text/plain": [
              "<_PrefetchDataset element_spec=(TensorSpec(shape=(None, 512, 512, 1), dtype=tf.float32, name=None), TensorSpec(shape=(None,), dtype=tf.int32, name=None))>"
            ]
          },
          "execution_count": 4,
          "metadata": {},
          "output_type": "execute_result"
        }
      ],
      "source": [
        "data_set"
      ]
    }
  ],
  "metadata": {
    "colab": {
      "provenance": []
    },
    "kernelspec": {
      "display_name": "Python 3",
      "name": "python3"
    },
    "language_info": {
      "codemirror_mode": {
        "name": "ipython",
        "version": 3
      },
      "file_extension": ".py",
      "mimetype": "text/x-python",
      "name": "python",
      "nbconvert_exporter": "python",
      "pygments_lexer": "ipython3",
      "version": "3.12.0"
    }
  },
  "nbformat": 4,
  "nbformat_minor": 0
}
